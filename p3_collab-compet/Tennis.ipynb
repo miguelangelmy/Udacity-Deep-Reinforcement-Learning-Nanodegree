{
 "cells": [
  {
   "cell_type": "markdown",
   "metadata": {},
   "source": [
    "# Collaboration and Competition\n",
    "\n",
    "---\n",
    "\n",
    "This notebook contains the solution implemented for the \"Collaboration and Competition\" project based on a Unity's ML-Agents environment. This is the third and last project of the [Deep Reinforcement Learning Nanodegree](https://www.udacity.com/course/deep-reinforcement-learning-nanodegree--nd893)."
   ]
  },
  {
   "cell_type": "markdown",
   "metadata": {},
   "source": [
    "## 1. Solution description\n",
    "\n",
    "The project consist of the resolution of a multi-agent environment (two) where the Multi-Agent Deep Deterministic Policy Gradients (MADDPG) algorithm was used to solve the scenario.\n",
    "\n",
    "The MADDPG algorithm uses an actor-critic approach with centralized planning and decentralized execution. In can be used for competitive, cooperative and mixed scenarios.\n",
    "\n",
    "<p align=\"middle\"><img src=\"images\\Centralized planning-decentralized execution.png\" width=\"600\"></p>\n",
    "\n",
    "When training the critic part of the agents uses the states observed by all the agents as input (and their actions).\n",
    "\n",
    "<p align=\"middle\"><img src=\"images\\training.png\" width=\"600\"></p>\n",
    "\n",
    "During testing the actors only have access to their own observations to take actions.\n",
    "\n",
    "<p align=\"middle\"><img src=\"images\\execution.png\" width=\"600\"></p>\n",
    "\n",
    "For the code the algorithm shown in the Lesson 6 (Deep RL for Finance) has been used as reference and adapted to the MADDPG specifications. The networks and the hyperparameters have been defined from scratch and have been tuned from testing.\n",
    "\n",
    "Once the agent reach the specified goal (the average over 100 episodes of the higher score for both agents is at least +0.5), the networks for both agents are saved (with their actor and critic models) in the \"final\" directory and a graph with the scores and the running means (for a window of 100 episodes) is plotted.\n",
    "\n",
    "As indicated above, the \"final\" directory contains the weights of the final networks while the intermediate weights obtained during training are in the \"checkpoints\" directory.\n",
    "\n",
    "The project solution is comprised of this same jupyter notebook (Tennis.ipynb) and the following files:\n",
    "\n",
    "* maddpg_manager.py: Contains the \"manager\" class to manage the whole training process, here are instantiated the needed agents.\n",
    "* maddpg_agent.py: Contains the agent implementation for the MADDPG algorithm.\n",
    "* maddpg_model.py: Contains the definition of the networks for the actor and the critic.\n",
    "* maddpg_replaybuffer.py: Contains the implementation of the replay buffer.\n",
    "* utils.py: Contains utility functions."
   ]
  },
  {
   "cell_type": "markdown",
   "metadata": {},
   "source": [
    "## 2. Training phase\n",
    "\n",
    "### 1. Importing the required packages\n",
    "\n",
    "We begin by importing some necessary packages. maddpg_agent and utils are modules developed as part of the solution."
   ]
  },
  {
   "cell_type": "code",
   "execution_count": 1,
   "metadata": {},
   "outputs": [],
   "source": [
    "import numpy as np\n",
    "import torch\n",
    "from collections import deque\n",
    "from maddpg_manager import MADDPGManager\n",
    "from utils import plot_scores\n",
    "%matplotlib inline"
   ]
  },
  {
   "cell_type": "markdown",
   "metadata": {},
   "source": [
    "### 2. Setting the model and training parameters \n",
    "\n",
    "Next, a series of constants are defined that will allow the model to be parameterized centrally throughout the project. This avoids having to go through different files to configure the parameters and avoids errors in the training phase."
   ]
  },
  {
   "cell_type": "code",
   "execution_count": 2,
   "metadata": {},
   "outputs": [],
   "source": [
    "# Training parameters\n",
    "TRAINING_MODE = False                            # Enable or disable the graphical output\n",
    "N_EPISODES = 10000                              # Max number of episodes for the training\n",
    "MAX_T = 500                                    # Max number of steps per episode\n",
    "SCORES_WINDOW = 100                             # Size for the window of the average score\n",
    "GOAL_SCORE = 0.5                                # Target average score over 100 consecutive episodes\n",
    "\n",
    "# Environment parameters\n",
    "NUM_AGENTS = 2                                  # Number of agents playing\n",
    "STATE_SIZE = 24                                 # Size for three stacked observations per agent (8*3=24)\n",
    "ACTION_SIZE = 2                                 # Size for the action\n",
    "# CRITIC_STATE_SIZE = NUM_AGENTS * (AGENT_STATE_SIZE + ACTION_SIZE)       # Size for the critic input (2*(24+2))\n",
    "RANDOM_SEED = 777                              # Random seed\n",
    "UNITY_ENV_PATH = 'Tennis_Windows_x86_64\\Tennis.exe'         #Path for the Unity environment\n",
    "\n",
    "# Agent parameters\n",
    "BUFFER_SIZE = 100000                            # Size for the replay memory\n",
    "BATCH_SIZE = 256                                # Size for the minibatch\n",
    "GAMMA = 0.99                                       # According to the specification where won't be discount for the rewards\n",
    "TAU = 1e-3                                      # Parameter for soft update of Q_target \n",
    "# TAU = 0.002                                      # Parameter for soft update of Q_target \n",
    "# LR_ACTOR = 1e-4                               # Learning rate of the actor \n",
    "# LR_CRITIC = 1e-3                              # Learning rate of the critic\n",
    "LR_ACTOR = 1e-4                              # Learning rate of the actor \n",
    "LR_CRITIC = 1e-3                              # Learning rate of the critic\n",
    "UPDATE_FRECUENCY = 2\n",
    "# WEIGHT_DECAY = 1e-4                           # L2 weight decay\n",
    "WEIGHT_DECAY = 0.0                                # L2 weight decay\n",
    "\n",
    "# Network parameters\n",
    "HIDDEN_LAYERS = (256, 256)                       # Tuple with the sizes for the hidden layers (generated dynamically from these values)\n",
    "\n",
    "# Checkpoints parameters\n",
    "CHECKPOINTS_PATH = \"checkpoints\"                # Directory for the checkpoints of the network weights"
   ]
  },
  {
   "cell_type": "markdown",
   "metadata": {},
   "source": [
    "### 3. Configuring where the model will run\n",
    "GPU processing is configured whenever possible, a message indicates whether the model will be trained/executed on the CPU or on the GPU using CUDA."
   ]
  },
  {
   "cell_type": "code",
   "execution_count": 3,
   "metadata": {},
   "outputs": [],
   "source": [
    "device = torch.device(\"cuda:0\" if torch.cuda.is_available() else \"cpu\")"
   ]
  },
  {
   "cell_type": "markdown",
   "metadata": {},
   "source": [
    "### 4. Starting up the environment\n",
    "\n",
    "The environment is started.  **_Before running the code cell below_**, change the `file_name` parameter to match the location of the Unity environment that you downloaded.\n",
    "\n",
    "- **Mac**: `\"path/to/Tennis.app\"`\n",
    "- **Windows** (x86): `\"path/to/Tennis_Windows_x86/Tennis.exe\"`\n",
    "- **Windows** (x86_64): `\"path/to/Tennis_Windows_x86_64/Tennis.exe\"`\n",
    "- **Linux** (x86): `\"path/to/Tennis_Linux/Tennis.x86\"`\n",
    "- **Linux** (x86_64): `\"path/to/Tennis_Linux/Tennis.x86_64\"`\n",
    "- **Linux** (x86, headless): `\"path/to/Tennis_Linux_NoVis/Tennis.x86\"`\n",
    "- **Linux** (x86_64, headless): `\"path/to/Tennis_Linux_NoVis/Tennis.x86_64\"`\n",
    "\n",
    "For instance, if you are using a Mac, then you downloaded `Tennis.app`.  If this file is in the same folder as the notebook, then the line below should appear as follows:\n",
    "```\n",
    "env = UnityEnvironment(file_name=\"Tennis.app\")\n",
    "```\n",
    "\n",
    "If TRAINING_MODE is True there won't be graphical output of the environment during training to speed up the process."
   ]
  },
  {
   "cell_type": "code",
   "execution_count": 4,
   "metadata": {},
   "outputs": [
    {
     "name": "stderr",
     "output_type": "stream",
     "text": [
      "INFO:unityagents:\n",
      "'Academy' started successfully!\n",
      "Unity Academy name: Academy\n",
      "        Number of Brains: 1\n",
      "        Number of External Brains : 1\n",
      "        Lesson number : 0\n",
      "        Reset Parameters :\n",
      "\t\t\n",
      "Unity brain name: TennisBrain\n",
      "        Number of Visual Observations (per agent): 0\n",
      "        Vector Observation space type: continuous\n",
      "        Vector Observation space size (per agent): 8\n",
      "        Number of stacked Vector Observation: 3\n",
      "        Vector Action space type: continuous\n",
      "        Vector Action space size (per agent): 2\n",
      "        Vector Action descriptions: , \n"
     ]
    }
   ],
   "source": [
    "from unityagents import UnityEnvironment\n",
    "if TRAINING_MODE:\n",
    "    env = UnityEnvironment(file_name = UNITY_ENV_PATH, no_graphics=True)\n",
    "else:\n",
    "    env = UnityEnvironment(file_name = UNITY_ENV_PATH)\n",
    "\n",
    "# get the default brain\n",
    "brain_name = env.brain_names[0]\n",
    "brain = env.brains[brain_name]"
   ]
  },
  {
   "cell_type": "markdown",
   "metadata": {},
   "source": [
    "### 2. Examine the State and Action Spaces\n",
    "\n",
    "In this environment, two agents control rackets to bounce a ball over a net. If an agent hits the ball over the net, it receives a reward of +0.1.  If an agent lets a ball hit the ground or hits the ball out of bounds, it receives a reward of -0.01.  Thus, the goal of each agent is to keep the ball in play.\n",
    "\n",
    "The observation space consists of 8 variables corresponding to the position and velocity of the ball and racket. Two continuous actions are available, corresponding to movement toward (or away from) the net, and jumping. \n",
    "\n",
    "Run the code cell below to print some information about the environment."
   ]
  },
  {
   "cell_type": "code",
   "execution_count": 5,
   "metadata": {},
   "outputs": [
    {
     "name": "stdout",
     "output_type": "stream",
     "text": [
      "Number of agents: 2\n",
      "Size of each action: 2\n",
      "Vector action description: ['', '']\n",
      "There are 2 agents. Each observes a state with length: 24\n",
      "The state for the first agent looks like: [ 0.          0.          0.          0.          0.          0.\n",
      "  0.          0.          0.          0.          0.          0.\n",
      "  0.          0.          0.          0.         -6.65278625 -1.5\n",
      " -0.          0.          6.83172083  6.         -0.          0.        ]\n"
     ]
    }
   ],
   "source": [
    "# reset the environment\n",
    "env_info = env.reset(train_mode=True)[brain_name]\n",
    "\n",
    "# number of agents \n",
    "num_agents = len(env_info.agents)\n",
    "print('Number of agents:', num_agents)\n",
    "\n",
    "# size of each action\n",
    "action_size = brain.vector_action_space_size\n",
    "print('Size of each action:', action_size)\n",
    "\n",
    "print (f\"Vector action description: {brain.vector_action_descriptions}\")\n",
    "\n",
    "# examine the state space \n",
    "states = env_info.vector_observations\n",
    "state_size = states.shape[1]\n",
    "print('There are {} agents. Each observes a state with length: {}'.format(states.shape[0], state_size))\n",
    "print('The state for the first agent looks like:', states[0])"
   ]
  },
  {
   "cell_type": "markdown",
   "metadata": {},
   "source": [
    "### 7. Training the model\n",
    "\n",
    "In the next code cell we are going to train the agent in the running environment.\n",
    "\n",
    "Here the agent will run several episodes (with the maximum specified) each one with a maximum of 1000 timesteps.\n",
    "\n",
    "Once the goal is achieved the training stops and the weights for the actor and the critic networks will be saved.\n",
    "\n",
    "After this, a graph with the increasing score along the episodes will be plotted with the moving averages for 100 episodes."
   ]
  },
  {
   "cell_type": "code",
   "execution_count": 6,
   "metadata": {},
   "outputs": [
    {
     "name": "stdout",
     "output_type": "stream",
     "text": [
      "Episode 100\tAverage Score: 0.009\t Max Score: 0.100\n",
      "Episode 200\tAverage Score: 0.009\t Max Score: 0.100\n",
      "Episode 300\tAverage Score: 0.026\t Max Score: 0.100\n",
      "Episode 400\tAverage Score: 0.010\t Max Score: 0.100\n",
      "Episode 500\tAverage Score: 0.027\t Max Score: 0.190\n",
      "Episode 600\tAverage Score: 0.027\t Max Score: 0.100\n",
      "Episode 700\tAverage Score: 0.007\t Max Score: 0.100\n",
      "Episode 800\tAverage Score: 0.005\t Max Score: 0.100\n",
      "Episode 900\tAverage Score: 0.036\t Max Score: 0.300\n",
      "Episode 1000\tAverage Score: 0.051\t Max Score: 0.190\n",
      "Episode 1100\tAverage Score: 0.045\t Max Score: 0.200\n",
      "Episode 1200\tAverage Score: 0.062\t Max Score: 0.200\n",
      "Episode 1300\tAverage Score: 0.094\t Max Score: 0.300\n",
      "Episode 1400\tAverage Score: 0.119\t Max Score: 0.400\n",
      "Episode 1500\tAverage Score: 0.139\t Max Score: 0.690\n",
      "Episode 1600\tAverage Score: 0.406\t Max Score: 1.400\n",
      " Environment Solved in Episode 1627\tAverage Score: 0.508\n"
     ]
    },
    {
     "data": {
      "image/png": "[encoded data removed]",
      "text/plain": [
       "<Figure size 432x288 with 1 Axes>"
      ]
     },
     "metadata": {
      "needs_background": "light"
     },
     "output_type": "display_data"
    }
   ],
   "source": [
    "def maddpg(n_episodes, max_t):\n",
    "          \n",
    "    # All the agents will have the same action space\n",
    "    maddpg_manager = MADDPGManager(num_agents=NUM_AGENTS, state_size=STATE_SIZE, action_size=ACTION_SIZE, hidden_layers=HIDDEN_LAYERS, buffer_size=BUFFER_SIZE, batch_size=BATCH_SIZE, update_frequency=UPDATE_FRECUENCY, gamma=GAMMA, tau=TAU, lr_actor=LR_ACTOR, lr_critic=LR_CRITIC, weight_decay=WEIGHT_DECAY, random_seed=RANDOM_SEED)     \n",
    "    \n",
    "    scores_deque = deque(maxlen=SCORES_WINDOW)\n",
    "    scores = []\n",
    "    \n",
    "    for i_episode in range(1, n_episodes+1):\n",
    "        env_info = env.reset(train_mode=True)[brain_name]  \n",
    "        states = env_info.vector_observations                  # get the current observations (here are the states for all the agents) \n",
    "        \n",
    "        scorestab = np.zeros(num_agents)                   # initialize the score (for each agent)\n",
    "        rewardslist = []   \n",
    "\n",
    "        for t in range(max_t):\n",
    "            \n",
    "            actions = maddpg_manager.act(states)      # get the actions from all the agents\n",
    "                    \n",
    "            env_info = env.step(actions)[brain_name]           # send all actions to tne environment\n",
    "    \n",
    "            next_states = env_info.vector_observations         # get next state (for each agent)            \n",
    "            rewards = env_info.rewards                         # get reward (for each agent)                       \n",
    "            dones = env_info.local_done                        # see if episode finished                                                    \n",
    "                       \n",
    "            maddpg_manager.save_experience(states, actions, rewards, next_states, dones)\n",
    "            \n",
    "            scorestab += env_info.rewards            \n",
    "            rewardslist.append(rewards)\n",
    "            \n",
    "            states = next_states                               # roll over states to next time step\n",
    "            \n",
    "            if np.any(dones):                                  # exit loop if episode finished\n",
    "                break\n",
    "\n",
    "        # calculate episode reward as maximum of individually collected rewards of agents\n",
    "        episode_reward = np.max(np.sum(np.array(rewardslist),axis=0))        \n",
    "        scores.append(episode_reward)             # save most recent score to overall score array\n",
    "        scores_deque.append(episode_reward)       # save most recent score to running window of 100 last scores\n",
    "        \n",
    "        # log average score every 100 episodes        \n",
    "        if i_episode % 100 == 0:\n",
    "            print(f\"\\rEpisode {i_episode}\\tAverage Score: {np.mean(scores_deque):.3f}\\t Max Score: {np.max(scores_deque):.3f}\")\n",
    "            \n",
    "        if i_episode % 1000 == 0:            \n",
    "            maddpg_manager.save_checkpoint(path=CHECKPOINTS_PATH, is_final=False)\n",
    "            \n",
    "        if np.mean(scores_deque) >= 0.5:        # The problem is considered solved when the average over 100 episodes of the scores is at least +0.5\n",
    "            print(f\"\\r Environment Solved in Episode {i_episode}\\tAverage Score: {np.mean(scores_deque):.3f}\")\n",
    "            maddpg_manager.save_checkpoint(path=CHECKPOINTS_PATH, is_final=True)\n",
    "            break\n",
    "    return scores\n",
    "\n",
    "scores = maddpg(n_episodes=N_EPISODES, max_t=MAX_T)\n",
    "\n",
    "plot_scores(scores)"
   ]
  },
  {
   "cell_type": "markdown",
   "metadata": {},
   "source": [
    "## 3. Validation phase\n",
    "\n",
    "The trained model will then be loaded and its performance in the Unity environment will be shown:"
   ]
  },
  {
   "cell_type": "code",
   "execution_count": 6,
   "metadata": {},
   "outputs": [],
   "source": [
    "import os\n",
    "\n",
    "maddpg_manager = MADDPGManager(num_agents=NUM_AGENTS, state_size=STATE_SIZE, action_size=ACTION_SIZE, hidden_layers=HIDDEN_LAYERS, buffer_size=BUFFER_SIZE, batch_size=BATCH_SIZE, update_frequency=UPDATE_FRECUENCY, gamma=GAMMA, tau=TAU, lr_actor=LR_ACTOR, lr_critic=LR_CRITIC, weight_decay=WEIGHT_DECAY, random_seed=RANDOM_SEED)       \n",
    "\n",
    "maddpg_manager.load_checkpoint(os.path.join(CHECKPOINTS_PATH,\"final\"), \"1654785585.pth\")\n",
    "\n",
    "for agent in maddpg_manager.agents:   \n",
    "    agent.actor_local.to(device)\n",
    "    agent.critic_local.to(device)\n",
    "\n",
    "env_info = env.reset(train_mode=False)[brain_name]  \n",
    "states = env_info.vector_observations\n",
    "for t in range(500):\n",
    "    actions = maddpg_manager.act(states)               # take the actions from the agent\n",
    "    env_info = env.step(actions)[brain_name]           # send actions to tne environment\n",
    "    next_states = env_info.vector_observations         # get next state\n",
    "    rewards = env_info.rewards                         # get reward\n",
    "    dones = env_info.local_done   \n",
    "    states = next_states                               # next state is the current state now\n",
    "    if np.any(dones):                                  # exit if episode finished\n",
    "        break "
   ]
  },
  {
   "cell_type": "code",
   "execution_count": 9,
   "metadata": {},
   "outputs": [],
   "source": [
    "env.close()"
   ]
  },
  {
   "cell_type": "markdown",
   "metadata": {},
   "source": [
    "## 4. Conclusions\n",
    "\n",
    "During the training process I tried different configurations for the neural network varying both the size and the number of hidden layers.\n",
    "\n",
    "I had to increase the complexity of the hidden layers until I could verify that the agents were able to learn.\n",
    "\n",
    "Finding the right values for the learning rates of the actor and critic network was also critical for the agents to learn correctly.\n",
    "\n",
    "A mechanism has been implemented to stop applying noise to the actor's actions after a certain number of time steps, in order to improve the scores after a sufficient period of experimentation.\n",
    "\n",
    "## 5. Next steps\n",
    "\n",
    "As an exercise on the sidelines of the project, I will implement other versions of the agent that make use of the improvements seen in the nanodegree, such as:\n",
    "\n",
    "* Prioritized experience replay: it could help to improve the training performance and to reduce the required time.\n",
    "\n",
    "It seems also that agents take a long time to start learning, I have to look for techniques and improvements in the MADDPG algorithm aimed at increasing the learning slope.\n",
    "\n",
    "\n"
   ]
  }
 ],
 "metadata": {
  "interpreter": {
   "hash": "5681449197eceb4dff89b8509da54eaeee8f98d133f1688c9660c267dfbc4be4"
  },
  "kernelspec": {
   "display_name": "Python 3.6.13 ('unity4')",
   "language": "python",
   "name": "python3"
  },
  "language_info": {
   "codemirror_mode": {
    "name": "ipython",
    "version": 3
   },
   "file_extension": ".py",
   "mimetype": "text/x-python",
   "name": "python",
   "nbconvert_exporter": "python",
   "pygments_lexer": "ipython3",
   "version": "3.6.13"
  }
 },
 "nbformat": 4,
 "nbformat_minor": 2
}
