{
 "cells": [
  {
   "cell_type": "markdown",
   "metadata": {},
   "source": [
    "# Continuous Control\n",
    "\n",
    "---\n",
    "\n",
    "This notebook contains the solution implemented for the \"Continuous Control\" project based on a Unity's ML-Agents environment. This is the second project of the [Deep Reinforcement Learning Nanodegree](https://www.udacity.com/course/deep-reinforcement-learning-nanodegree--nd893).\n",
    "\n"
   ]
  },
  {
   "cell_type": "markdown",
   "metadata": {},
   "source": [
    "## 1. Solution description\n",
    "\n",
    "The project consist of the resolution of the environment with a single agent where the Deep Deterministic Policy Gradients (DDPG) algorithm was used to solve the scenario with one agent.\n",
    "\n",
    "<p align=\"middle\"><img src=\"images\\actor-critic.png\" width=\"600\"></p>\n",
    "\n",
    "The algorithm shown in the Lesson 6 (Deep RL for Finance) has been used as reference, but the networks and the hyperparameters have been defined from scratch and have been tuned from testing.\n",
    "\n",
    "<p align=\"middle\"><img src=\"images\\networks.png\" width=\"600\"></p>\n",
    "\n",
    "Once the agent reach the specified goal (get an average score of +30 over 100 consecutive episodes), both networks are saved (actor and critic) in the checkpoints directory and and a graph with the scores and the running means (for a window of 100 episodes) is plotted.\n",
    "\n",
    "The project solution is comprised of this same jupyter notebook (Continuous_Control.ipynb) and the following files:\n",
    "\n",
    "* ddpg_agent.py: Contains the agent implementation that applies the DDPG algorithm for learning.\n",
    "* ddpg_model.py: Contains the definition of the networks for the actor and the critic parts used in the DDPG algorithm.\n",
    "\n",
    "* utils: Contains utility functions."
   ]
  },
  {
   "cell_type": "markdown",
   "metadata": {},
   "source": [
    "## 2. Training phase\n",
    "\n",
    "### 1. Importing the required packages\n",
    "\n",
    "We begin by importing some necessary packages. ddpg_agent and utils are modules developed as part of the solution."
   ]
  },
  {
   "cell_type": "code",
   "execution_count": 11,
   "metadata": {},
   "outputs": [],
   "source": [
    "import numpy as np\n",
    "import torch\n",
    "from collections import deque\n",
    "from ddpg_agent import DDPGAgent\n",
    "from utils import load_checkpoint, save_checkpoint, plot_scores\n",
    "%matplotlib inline"
   ]
  },
  {
   "cell_type": "markdown",
   "metadata": {},
   "source": [
    "### 2. Setting the model and training parameters \n",
    "\n",
    "Next, a series of constants are defined that will allow the model to be parameterized centrally throughout the project. This avoids having to go through different files to configure the parameters and avoids errors in the training phase."
   ]
  },
  {
   "cell_type": "code",
   "execution_count": 2,
   "metadata": {},
   "outputs": [],
   "source": [
    "N_EPISODES = 500                                # Max number of episodes for the training\n",
    "MAX_T = 1000                                    # Max number of steps per episode\n",
    "\n",
    "SCORES_WINDOW = 100                             # Size for the window of the average score\n",
    "\n",
    "STATE_SIZE = 33                                 # Size for the observation state\n",
    "ACTION_SIZE = 4                                 # Size for the action\n",
    "RANDOM_SEED = 777                               # Random seed\n",
    "UNITY_ENV_1_PATH = 'Reacher_Windows_x86_64_1_agent\\Reacher.exe'         #Path for the Unity environment\n",
    "\n",
    "# Agent parameters\n",
    "BUFFER_SIZE = 100000                            # Size for the replay memory\n",
    "BATCH_SIZE = 128                                # Size for the minibatch\n",
    "GAMMA = 0.99                                    # Discount factor\n",
    "TAU = 1e-3                                      # Parameter for soft update of Q_target \n",
    "LR_ACTOR = 1.5e-4                               # Learning rate of the actor \n",
    "LR_CRITIC = 1.5e-4                              # Learning rate of the critic\n",
    "WEIGHT_DECAY = 1e-4                             # L2 weight decay\n",
    "\n",
    "# Network parameters\n",
    "HIDDEN_LAYERS = (600, 400)                      # Tuple with the sizes for the hidden layers (generated dynamically from these values)\n",
    "\n",
    "CHECKPOINTS_PATH = \"checkpoints\"                # Directory for the checkpoints of the network weights\n",
    "ACTOR_CHECKPOINT = \"actor_checkpoint\"           # Prefix for the name of the actor checkpoint\n",
    "CRITIC_CHECKPOINT = \"critic_checkpoint\"         # Prefix for the name of the critic checkpoint"
   ]
  },
  {
   "cell_type": "markdown",
   "metadata": {},
   "source": [
    "### 3. Configuring where the model will run\n",
    "GPU processing is configured whenever possible, a message indicates whether the model will be trained/executed on the CPU or on the GPU using CUDA."
   ]
  },
  {
   "cell_type": "code",
   "execution_count": 3,
   "metadata": {},
   "outputs": [],
   "source": [
    "device = torch.device(\"cuda:0\" if torch.cuda.is_available() else \"cpu\")"
   ]
  },
  {
   "cell_type": "markdown",
   "metadata": {},
   "source": [
    "### 4. Starting up the environment\n",
    "\n",
    "A DDPG agent is instantiated and the environment is started.  **_Before running the code cell below_**, change the `file_name` parameter to match the location of the Unity environment that you downloaded.\n",
    "\n",
    "* Linux: [click here](https://s3-us-west-1.amazonaws.com/udacity-drlnd/P2/Reacher/one_agent/Reacher_Linux.zip)\n",
    "* Mac OSX: [click here](https://s3-us-west-1.amazonaws.com/udacity-drlnd/P2/Reacher/one_agent/Reacher.app.zip)\n",
    "* Windows (32-bit): [click here](https://s3-us-west-1.amazonaws.com/udacity-drlnd/P2/Reacher/one_agent/Reacher_Windows_x86.zip)\n",
    "* Windows (64-bit): [click here](https://s3-us-west-1.amazonaws.com/udacity-drlnd/P2/Reacher/one_agent/Reacher_Windows_x86_64.zip)\n",
    "\n",
    "(_For Windows users_) Check out [this link](https://support.microsoft.com/en-us/help/827218/how-to-determine-whether-a-computer-is-running-a-32-bit-version-or-64) if you need help with determining if your computer is running a 32-bit version or 64-bit version of the Windows operating system.\n",
    "\n",
    "(_For AWS_) If you'd like to train the agent on AWS (and have not [enabled a virtual screen](https://github.com/Unity-Technologies/ml-agents/blob/master/docs/Training-on-Amazon-Web-Service.md)), then please use [this link](https://s3-us-west-1.amazonaws.com/udacity-drlnd/P2/Reacher/one_agent/Reacher_Linux_NoVis.zip) (version 1) or [this link](https://s3-us-west-1.amazonaws.com/udacity-drlnd/P2/Reacher/Reacher_Linux_NoVis.zip) (version 2) to obtain the \"headless\" version of the environment.  You will **not** be able to watch the agent without enabling a virtual screen, but you will be able to train the agent.  (_To watch the agent, you should follow the instructions to [enable a virtual screen](https://github.com/Unity-Technologies/ml-agents/blob/master/docs/Training-on-Amazon-Web-Service.md), and then download the environment for the **Linux** operating system above._)"
   ]
  },
  {
   "cell_type": "code",
   "execution_count": 4,
   "metadata": {},
   "outputs": [
    {
     "name": "stderr",
     "output_type": "stream",
     "text": [
      "d:\\Git-projects\\Udacity-Deep-Reinforcement-Learning-Nanodegree\\p2_continuous-control\\ddpg_model.py:41: UserWarning: nn.init.xavier_normal is now deprecated in favor of nn.init.xavier_normal_.\n",
      "  nn.init.xavier_normal(m.weight.data)\n"
     ]
    },
    {
     "name": "stdout",
     "output_type": "stream",
     "text": [
      "critic_layers:ModuleList(\n",
      "  (0): Linear(in_features=37, out_features=600, bias=True)\n",
      "  (1): Linear(in_features=600, out_features=400, bias=True)\n",
      ")\n",
      "critic_layers:ModuleList(\n",
      "  (0): Linear(in_features=37, out_features=600, bias=True)\n",
      "  (1): Linear(in_features=600, out_features=400, bias=True)\n",
      ")\n"
     ]
    },
    {
     "name": "stderr",
     "output_type": "stream",
     "text": [
      "d:\\Git-projects\\Udacity-Deep-Reinforcement-Learning-Nanodegree\\p2_continuous-control\\ddpg_model.py:89: UserWarning: nn.init.xavier_normal is now deprecated in favor of nn.init.xavier_normal_.\n",
      "  nn.init.xavier_normal(m.weight.data)\n",
      "INFO:unityagents:\n",
      "'Academy' started successfully!\n",
      "Unity Academy name: Academy\n",
      "        Number of Brains: 1\n",
      "        Number of External Brains : 1\n",
      "        Lesson number : 0\n",
      "        Reset Parameters :\n",
      "\t\tgoal_speed -> 1.0\n",
      "\t\tgoal_size -> 5.0\n",
      "Unity brain name: ReacherBrain\n",
      "        Number of Visual Observations (per agent): 0\n",
      "        Vector Observation space type: continuous\n",
      "        Vector Observation space size (per agent): 33\n",
      "        Number of stacked Vector Observation: 1\n",
      "        Vector Action space type: continuous\n",
      "        Vector Action space size (per agent): 4\n",
      "        Vector Action descriptions: , , , \n"
     ]
    }
   ],
   "source": [
    "agent = DDPGAgent(state_size=STATE_SIZE, action_size=ACTION_SIZE, hidden_layers=HIDDEN_LAYERS, buffer_size=BUFFER_SIZE, batch_size=BATCH_SIZE, gamma=GAMMA, tau=TAU, lr_actor=LR_ACTOR, lr_critic=LR_CRITIC, weight_decay=WEIGHT_DECAY, random_seed=RANDOM_SEED)            \n",
    "     \n",
    "from unityagents import UnityEnvironment\n",
    "env = UnityEnvironment(file_name = UNITY_ENV_1_PATH)\n",
    "# get the default brain\n",
    "brain_name = env.brain_names[0]\n",
    "brain = env.brains[brain_name]"
   ]
  },
  {
   "cell_type": "markdown",
   "metadata": {},
   "source": [
    "### 5. Examining the State and Action Spaces\n",
    "\n",
    "In this environment, a double-jointed arm can move to target locations, the observations space has a dimension of 33.  At each time step the agent returns an action composed of 4 values that take values in the continuous interval from 1 to -1.\n",
    "\n",
    "Environments contain **_brains_** which are responsible for deciding the actions of their associated agents. Here we check for the first brain available, and set it as the default brain we will be controlling from Python.\n",
    "\n",
    "Run the code cell below to print some information about the environment."
   ]
  },
  {
   "cell_type": "code",
   "execution_count": 5,
   "metadata": {},
   "outputs": [
    {
     "name": "stdout",
     "output_type": "stream",
     "text": [
      "Number of agents: 1\n",
      "Size of each action: 4\n",
      "There are 1 agents. Each observes a state with length: 33\n",
      "The state for the first agent looks like:[ 0.00000000e+00 -4.00000000e+00  0.00000000e+00  1.00000000e+00\n",
      " -0.00000000e+00 -0.00000000e+00 -4.37113883e-08  0.00000000e+00\n",
      "  0.00000000e+00  0.00000000e+00  0.00000000e+00  0.00000000e+00\n",
      "  0.00000000e+00  0.00000000e+00 -1.00000000e+01  0.00000000e+00\n",
      "  1.00000000e+00 -0.00000000e+00 -0.00000000e+00 -4.37113883e-08\n",
      "  0.00000000e+00  0.00000000e+00  0.00000000e+00  0.00000000e+00\n",
      "  0.00000000e+00  0.00000000e+00  5.75471878e+00 -1.00000000e+00\n",
      "  5.55726671e+00  0.00000000e+00  1.00000000e+00  0.00000000e+00\n",
      " -1.68164849e-01]\n"
     ]
    }
   ],
   "source": [
    "# reset the environment\n",
    "env_info = env.reset(train_mode=True)[brain_name]\n",
    "\n",
    "# number of agents\n",
    "num_agents = len(env_info.agents)\n",
    "print('Number of agents:', num_agents)\n",
    "\n",
    "# size of each action\n",
    "action_size = brain.vector_action_space_size\n",
    "print('Size of each action:', action_size)\n",
    "\n",
    "# examine the state space \n",
    "states = env_info.vector_observations\n",
    "state_size = states.shape[1]\n",
    "print(f\"There are {states.shape[0]} agents. Each observes a state with length: {state_size}\")\n",
    "print(f\"The state for the first agent looks like:{states[0]}\")"
   ]
  },
  {
   "cell_type": "markdown",
   "metadata": {},
   "source": [
    "### 7. Training the model\n",
    "\n",
    "In the next code cell we are going to train the agent in the running environment.\n",
    "\n",
    "Here the agent will run several episodes (with the maximum specified) each one with a maximum of 1000 timesteps.\n",
    "\n",
    "Once the goal is achieved the training stops and the weights for the actor and the critic networks will be saved.\n",
    "\n",
    "After this, a graph with the increasing score along the episodes will be plotted with the moving averages for 100 episodes.\n"
   ]
  },
  {
   "cell_type": "code",
   "execution_count": 7,
   "metadata": {},
   "outputs": [
    {
     "name": "stdout",
     "output_type": "stream",
     "text": [
      "Episode 10\tAverage Score: 0.97\n",
      "Episode 20\tAverage Score: 1.80\n",
      "Episode 30\tAverage Score: 3.35\n",
      "Episode 40\tAverage Score: 5.41\n",
      "Episode 50\tAverage Score: 8.31\n",
      "Episode 60\tAverage Score: 11.38\n",
      "Episode 70\tAverage Score: 13.41\n",
      "Episode 80\tAverage Score: 15.40\n",
      "Episode 90\tAverage Score: 17.31\n",
      "Episode 100\tAverage Score: 18.80\n",
      "Episode 110\tAverage Score: 22.24\n",
      "Episode 120\tAverage Score: 25.69\n",
      "Episode 130\tAverage Score: 28.75\n",
      " Environment Solved in Episode 135\tAverage Score: 30.05\n"
     ]
    },
    {
     "data": {
      "image/png": "[encoded data removed]",
      "text/plain": [
       "<Figure size 720x360 with 1 Axes>"
      ]
     },
     "metadata": {
      "needs_background": "light"
     },
     "output_type": "display_data"
    }
   ],
   "source": [
    "def ddpg(n_episodes, max_t):\n",
    "    scores_deque = deque(maxlen=SCORES_WINDOW) \n",
    "    max_score = -np.Inf \n",
    "    avg_score = []\n",
    "    update_step = 5\n",
    "    for i_episode in range(1, n_episodes+1):\n",
    "        env_info = env.reset(train_mode=True)[brain_name]  \n",
    "        states = env_info.vector_observations                  # get the current state (for each agent) \n",
    "        scores = np.zeros(num_agents)\n",
    "        for t in range(max_t):\n",
    "            actions = agent.act(states)\n",
    "            env_info = env.step(actions)[brain_name]           # send all actions to tne environment\n",
    "            next_states = env_info.vector_observations         # get next state (for each agent)\n",
    "            rewards = env_info.rewards                         # get reward (for each agent)\n",
    "            dones = env_info.local_done                        # see if episode finished\n",
    "            agent.step(states, actions, rewards, next_states, dones)\n",
    "            scores += rewards                                  # update the score (for each agent)\n",
    "            states = next_states                               # roll over states to next time step\n",
    "            if np.any(dones):                                  # exit loop if episode finished\n",
    "                break\n",
    "        score = np.mean(scores)\n",
    "        scores_deque.append(score)\n",
    "        avg_score.append(np.mean(score))\n",
    "        if i_episode % 10 == 0:\n",
    "            print(f\"\\rEpisode {i_episode}\\tAverage Score: {np.mean(scores_deque):.2f}\")\n",
    "        if np.mean(scores_deque) >= 30:\n",
    "            print(f\"\\r Environment Solved in Episode {i_episode}\\tAverage Score: {np.mean(scores_deque):.2f}\")\n",
    "            save_checkpoint(agent.actor_local, path=CHECKPOINTS_PATH, name_prefix=ACTOR_CHECKPOINT)\n",
    "            save_checkpoint(agent.critic_local, path=CHECKPOINTS_PATH, name_prefix=CRITIC_CHECKPOINT)\n",
    "            break\n",
    "    return avg_score\n",
    "\n",
    "scores = ddpg(n_episodes=N_EPISODES, max_t=MAX_T)\n",
    "\n",
    "plot_scores(scores)"
   ]
  },
  {
   "cell_type": "markdown",
   "metadata": {},
   "source": [
    "## 3. Validation phase\n",
    "\n",
    "The trained model will then be loaded and its performance in the Unity environment will be shown:"
   ]
  },
  {
   "cell_type": "code",
   "execution_count": 9,
   "metadata": {},
   "outputs": [
    {
     "name": "stdout",
     "output_type": "stream",
     "text": [
      "critic_layers:ModuleList(\n",
      "  (0): Linear(in_features=37, out_features=600, bias=True)\n",
      "  (1): Linear(in_features=600, out_features=400, bias=True)\n",
      ")\n",
      "critic_layers:ModuleList(\n",
      "  (0): Linear(in_features=37, out_features=600, bias=True)\n",
      "  (1): Linear(in_features=600, out_features=400, bias=True)\n",
      ")\n",
      "critic_layers:ModuleList(\n",
      "  (0): Linear(in_features=37, out_features=600, bias=True)\n",
      "  (1): Linear(in_features=600, out_features=400, bias=True)\n",
      ")\n"
     ]
    }
   ],
   "source": [
    "agent = DDPGAgent(state_size=STATE_SIZE, action_size=ACTION_SIZE, hidden_layers=HIDDEN_LAYERS, buffer_size=BUFFER_SIZE, batch_size=BATCH_SIZE, gamma=GAMMA, tau=TAU, lr_actor=LR_ACTOR, lr_critic=LR_CRITIC, weight_decay=WEIGHT_DECAY, random_seed=RANDOM_SEED)\n",
    "\n",
    "load_checkpoint(agent.actor_local, CHECKPOINTS_PATH, \"actor_checkpoint1653322072.pth\")\n",
    "load_checkpoint(agent.critic_local, CHECKPOINTS_PATH, \"critic_checkpoint1653322072.pth\")\n",
    "\n",
    "agent.actor_local.to(device)\n",
    "agent.critic_local.to(device)\n",
    "\n",
    "env_info = env.reset(train_mode=False)[brain_name]  \n",
    "states = env_info.vector_observations\n",
    "for t in range(500):\n",
    "    actions = agent.act(states)                        # take the actions from the agent\n",
    "    env_info = env.step(actions)[brain_name]           # send actions to tne environment\n",
    "    next_states = env_info.vector_observations         # get next state\n",
    "    rewards = env_info.rewards                         # get reward\n",
    "    dones = env_info.local_done   \n",
    "    states = next_states                               # next state is the current state now\n",
    "    if np.any(dones):                                  # exit if episode finished\n",
    "        break "
   ]
  },
  {
   "cell_type": "code",
   "execution_count": 10,
   "metadata": {},
   "outputs": [],
   "source": [
    "env.close()"
   ]
  }
 ],
 "metadata": {
  "interpreter": {
   "hash": "5681449197eceb4dff89b8509da54eaeee8f98d133f1688c9660c267dfbc4be4"
  },
  "kernelspec": {
   "display_name": "Python 3.6.13 ('unity4')",
   "language": "python",
   "name": "python3"
  },
  "language_info": {
   "codemirror_mode": {
    "name": "ipython",
    "version": 3
   },
   "file_extension": ".py",
   "mimetype": "text/x-python",
   "name": "python",
   "nbconvert_exporter": "python",
   "pygments_lexer": "ipython3",
   "version": "3.6.13"
  }
 },
 "nbformat": 4,
 "nbformat_minor": 2
}
